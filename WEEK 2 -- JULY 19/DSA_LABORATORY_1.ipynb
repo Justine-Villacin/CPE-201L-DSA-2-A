{
  "nbformat": 4,
  "nbformat_minor": 0,
  "metadata": {
    "colab": {
      "provenance": [],
      "authorship_tag": "ABX9TyNSDagud2w0q90KttCcF8dz",
      "include_colab_link": true
    },
    "kernelspec": {
      "name": "python3",
      "display_name": "Python 3"
    },
    "language_info": {
      "name": "python"
    }
  },
  "cells": [
    {
      "cell_type": "markdown",
      "metadata": {
        "id": "view-in-github",
        "colab_type": "text"
      },
      "source": [
        "<a href=\"https://colab.research.google.com/github/Justine-Villacin/CPE-201L-DSA-2-A/blob/main/DSA_LABORATORY_1.ipynb\" target=\"_parent\"><img src=\"https://colab.research.google.com/assets/colab-badge.svg\" alt=\"Open In Colab\"/></a>"
      ]
    },
    {
      "cell_type": "code",
      "execution_count": 1,
      "metadata": {
        "colab": {
          "base_uri": "https://localhost:8080/"
        },
        "id": "P1TfP9jTNcMC",
        "outputId": "c0488016-c4a2-4d95-b15d-b54df7d93348"
      },
      "outputs": [
        {
          "output_type": "stream",
          "name": "stdout",
          "text": [
            "Default Polygon: \n",
            "Name: , Sides: 0, Area: 0.0\n",
            "\n",
            "Updated Polygon: \n",
            "Name: Triangle, Sides: 3, Area: 15.5\n",
            "\n",
            "New Polygon:\n",
            "Name: Square, Sides: 4, Area: 16.0\n"
          ]
        }
      ],
      "source": [
        "class Polygons:\n",
        "    def __init__(self, name = \"\", sides = 0, area = 0.0):\n",
        "      self.name = name\n",
        "      self.sides = sides\n",
        "      self.area = area\n",
        "\n",
        "    def get_name(self):\n",
        "      return self.name\n",
        "\n",
        "    def get_sides(self):\n",
        "      return self.sides\n",
        "\n",
        "    def get_area(self):\n",
        "      return self.area\n",
        "\n",
        "    def set_name(self, new_name):\n",
        "      self.name = new_name\n",
        "\n",
        "    def set_sides(self, new_sides):\n",
        "      self.sides = new_sides\n",
        "\n",
        "    def set_area(self, new_area):\n",
        "      self.area = new_area\n",
        "\n",
        "if __name__ == \"__main__\":\n",
        "\n",
        "   shape = Polygons()\n",
        "   print(\"Default Polygon: \")\n",
        "   print(f\"Name: {shape.get_name()}, Sides: {shape.get_sides()}, Area: {shape.get_area()}\")\n",
        "\n",
        "   shape.set_name(\"Triangle\")\n",
        "   shape.set_sides(3)\n",
        "   shape.set_area(15.5)\n",
        "\n",
        "   print(\"\\nUpdated Polygon: \")\n",
        "   print(f\"Name: {shape.get_name()}, Sides: {shape.get_sides()}, Area: {shape.get_area()}\")\n",
        "\n",
        "   shape.set_name(\"Square\")\n",
        "   shape.set_sides(4)\n",
        "   shape.set_area(16.0)\n",
        "\n",
        "   print(\"\\nNew Polygon:\")\n",
        "   print(f\"Name: {shape.get_name()}, Sides: {shape.get_sides()}, Area: {shape.get_area()}\")\n",
        "\n",
        "\n"
      ]
    }
  ]
}