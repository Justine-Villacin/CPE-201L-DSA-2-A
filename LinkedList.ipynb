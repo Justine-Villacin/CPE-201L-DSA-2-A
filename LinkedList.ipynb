{
  "nbformat": 4,
  "nbformat_minor": 0,
  "metadata": {
    "colab": {
      "provenance": [],
      "authorship_tag": "ABX9TyP5Ji9VJvOeqBUX1w5391uf",
      "include_colab_link": true
    },
    "kernelspec": {
      "name": "python3",
      "display_name": "Python 3"
    },
    "language_info": {
      "name": "python"
    }
  },
  "cells": [
    {
      "cell_type": "markdown",
      "metadata": {
        "id": "view-in-github",
        "colab_type": "text"
      },
      "source": [
        "<a href=\"https://colab.research.google.com/github/Justine-Villacin/CPE-201L-DSA-2-A/blob/main/LinkedList.ipynb\" target=\"_parent\"><img src=\"https://colab.research.google.com/assets/colab-badge.svg\" alt=\"Open In Colab\"/></a>"
      ]
    },
    {
      "cell_type": "code",
      "execution_count": 3,
      "metadata": {
        "colab": {
          "base_uri": "https://localhost:8080/"
        },
        "id": "SIcxPBeL2JVr",
        "outputId": "4d105690-a22a-4643-aa78-121d8a257a90"
      },
      "outputs": [
        {
          "output_type": "execute_result",
          "data": {
            "text/plain": [
              "array('f', [1.0, 2.0, 3.0, 4.0, 5.0, 6.0])"
            ]
          },
          "metadata": {},
          "execution_count": 3
        }
      ],
      "source": [
        "import array\n",
        "array.typecodes  #get all typecodes\n",
        "a = array.array(\"i\", [1,2,3,4,5,6]) #initializing array a\n",
        "b = array.array(\"f\", [1.5,2.5,3.5,4.5,5.5,6.5]) #initializing array b\n",
        "a.typecode #getting the typecode of a\n",
        "c = array.array(\"f\", (float(x) for x in a))\n",
        "c"
      ]
    },
    {
      "cell_type": "code",
      "source": [
        "import array\n",
        "array.typecodes  #get all typecodes\n",
        "a = array.array(\"i\", [1,2,3,4,5,6]) #initializing array a\n",
        "b = array.array(\"f\", [1.5,2.5,3.5,4.5,5.5,6.5]) #initializing array b\n",
        "a.typecode #getting the typecode of a\n",
        "b.typecode #getting the typecode of b\n",
        "a.typecode #getting the typecode of a"
      ],
      "metadata": {
        "colab": {
          "base_uri": "https://localhost:8080/",
          "height": 36
        },
        "id": "wuXFwPMu2amp",
        "outputId": "1f6c63ee-e132-4f0f-d8a8-716f2bb57e6c"
      },
      "execution_count": 4,
      "outputs": [
        {
          "output_type": "execute_result",
          "data": {
            "text/plain": [
              "'i'"
            ],
            "application/vnd.google.colaboratory.intrinsic+json": {
              "type": "string"
            }
          },
          "metadata": {},
          "execution_count": 4
        }
      ]
    },
    {
      "cell_type": "code",
      "source": [
        "from array import array # importing array from array module\n",
        "a= array('i',[4,5,6,7]) # initializing array\n",
        "a.insert(1,2) # inserting element: 2 at index: 1\n",
        "a  # Printing array a\n",
        "array('i', [4, 2, 5, 6, 7])\n",
        "a.insert(-1,0) # insert element: 0 at index: -1\n",
        "a\n",
        "a.insert(10, -1) # insert element: -1 at index: 10, this is out of range\n",
        "a\n",
        "array('i', [4, 2, 5, 6, 0, 7, -1])\n"
      ],
      "metadata": {
        "colab": {
          "base_uri": "https://localhost:8080/"
        },
        "id": "IQGO0dQg2dRy",
        "outputId": "3aad642d-3bf4-421a-ffe0-a0aba4208273"
      },
      "execution_count": 5,
      "outputs": [
        {
          "output_type": "execute_result",
          "data": {
            "text/plain": [
              "array('i', [4, 2, 5, 6, 0, 7, -1])"
            ]
          },
          "metadata": {},
          "execution_count": 5
        }
      ]
    },
    {
      "cell_type": "code",
      "source": [
        "# Node class\n",
        "class Node:\n",
        "\n",
        "    # Function to initialize the node object\n",
        "    def __init__(self, data):\n",
        "        self.data = data # Assign data\n",
        "        self.next = None # Initialize\n",
        "                        # next as null\n",
        "\n",
        "# Linked List class\n",
        "class LinkedList:\n",
        "\n",
        "    # Function to initialize the Linked\n",
        "    # List object\n",
        "    def __init__(self):\n",
        "        self.head = None"
      ],
      "metadata": {
        "id": "uVloEKee2iIF"
      },
      "execution_count": 6,
      "outputs": []
    },
    {
      "cell_type": "code",
      "source": [
        "# A simple Python program to introduce a linked list\n",
        "\n",
        "# Node class\n",
        "class Node:\n",
        "\n",
        "    # Function to initialize the node object\n",
        "    def __init__(self, data):\n",
        "        self.data = data # Assign data\n",
        "        self.next = None # Initialize next as null\n",
        "\n",
        "\n",
        "# Linked List class contains a Node object\n",
        "class LinkedList:\n",
        "\n",
        "    # Function to initialize head\n",
        "    def __init__(self):\n",
        "        self.head = None\n",
        "\n",
        "    def print_all(self):\n",
        "      current = self.head\n",
        "    while current:\n",
        "        print(current.data)\n",
        "        current = current.next\n",
        "\n",
        "# Code execution starts here\n",
        "if __name__=='__main__':\n",
        "\n",
        "    # Start with the empty list\n",
        "    llist = LinkedList()\n",
        "\n",
        "    llist.head = Node(\"A\")\n",
        "    second = Node(\"B\")\n",
        "    third = Node(\"C\")\n",
        "    fourth = Node(\"D\")\n",
        "\n",
        "    llist.head.next = second # Link first node with second\n",
        "    second.next = third # Link second node with the third node\n",
        "    third.next = fourth # Link third node with the fourth node\n",
        "\n",
        "llist.print_all"
      ],
      "metadata": {
        "colab": {
          "base_uri": "https://localhost:8080/",
          "height": 346
        },
        "id": "Xr34_sIe2rZh",
        "outputId": "99c2afc8-753e-4fdc-bb75-2c68365e1d14"
      },
      "execution_count": 7,
      "outputs": [
        {
          "output_type": "error",
          "ename": "NameError",
          "evalue": "name 'current' is not defined",
          "traceback": [
            "\u001b[0;31m---------------------------------------------------------------------------\u001b[0m",
            "\u001b[0;31mNameError\u001b[0m                                 Traceback (most recent call last)",
            "\u001b[0;32m/tmp/ipython-input-884260658.py\u001b[0m in \u001b[0;36m<cell line: 0>\u001b[0;34m()\u001b[0m\n\u001b[1;32m     11\u001b[0m \u001b[0;34m\u001b[0m\u001b[0m\n\u001b[1;32m     12\u001b[0m \u001b[0;31m# Linked List class contains a Node object\u001b[0m\u001b[0;34m\u001b[0m\u001b[0;34m\u001b[0m\u001b[0m\n\u001b[0;32m---> 13\u001b[0;31m \u001b[0;32mclass\u001b[0m \u001b[0mLinkedList\u001b[0m\u001b[0;34m:\u001b[0m\u001b[0;34m\u001b[0m\u001b[0;34m\u001b[0m\u001b[0m\n\u001b[0m\u001b[1;32m     14\u001b[0m \u001b[0;34m\u001b[0m\u001b[0m\n\u001b[1;32m     15\u001b[0m     \u001b[0;31m# Function to initialize head\u001b[0m\u001b[0;34m\u001b[0m\u001b[0;34m\u001b[0m\u001b[0m\n",
            "\u001b[0;32m/tmp/ipython-input-884260658.py\u001b[0m in \u001b[0;36mLinkedList\u001b[0;34m()\u001b[0m\n\u001b[1;32m     19\u001b[0m     \u001b[0;32mdef\u001b[0m \u001b[0mprint_all\u001b[0m\u001b[0;34m(\u001b[0m\u001b[0mself\u001b[0m\u001b[0;34m)\u001b[0m\u001b[0;34m:\u001b[0m\u001b[0;34m\u001b[0m\u001b[0;34m\u001b[0m\u001b[0m\n\u001b[1;32m     20\u001b[0m       \u001b[0mcurrent\u001b[0m \u001b[0;34m=\u001b[0m \u001b[0mself\u001b[0m\u001b[0;34m.\u001b[0m\u001b[0mhead\u001b[0m\u001b[0;34m\u001b[0m\u001b[0;34m\u001b[0m\u001b[0m\n\u001b[0;32m---> 21\u001b[0;31m     \u001b[0;32mwhile\u001b[0m \u001b[0mcurrent\u001b[0m\u001b[0;34m:\u001b[0m\u001b[0;34m\u001b[0m\u001b[0;34m\u001b[0m\u001b[0m\n\u001b[0m\u001b[1;32m     22\u001b[0m         \u001b[0mprint\u001b[0m\u001b[0;34m(\u001b[0m\u001b[0mcurrent\u001b[0m\u001b[0;34m.\u001b[0m\u001b[0mdata\u001b[0m\u001b[0;34m)\u001b[0m\u001b[0;34m\u001b[0m\u001b[0;34m\u001b[0m\u001b[0m\n\u001b[1;32m     23\u001b[0m         \u001b[0mcurrent\u001b[0m \u001b[0;34m=\u001b[0m \u001b[0mcurrent\u001b[0m\u001b[0;34m.\u001b[0m\u001b[0mnext\u001b[0m\u001b[0;34m\u001b[0m\u001b[0;34m\u001b[0m\u001b[0m\n",
            "\u001b[0;31mNameError\u001b[0m: name 'current' is not defined"
          ]
        }
      ]
    },
    {
      "cell_type": "code",
      "source": [
        "# Node class\n",
        "class Node:\n",
        "    def __init__(self, data):\n",
        "        self.data = data\n",
        "        self.next = None\n",
        "\n",
        "# Linked List class\n",
        "class LinkedList:\n",
        "    def __init__(self):\n",
        "        self.head = None\n",
        "\n",
        "    def print_all(self):\n",
        "        current = self.head\n",
        "        while current:\n",
        "            print(current.data)\n",
        "            current = current.next\n",
        "\n",
        "if __name__ == '__main__':\n",
        "    llist = LinkedList()\n",
        "\n",
        "    llist.head = Node(\"A\")\n",
        "    second = Node(\"B\")\n",
        "    third = Node(\"C\")\n",
        "    fourth = Node(\"D\")\n",
        "\n",
        "    llist.head.next = second\n",
        "    second.next = third\n",
        "    third.next = fourth\n",
        "\n",
        "    llist.print_all()"
      ],
      "metadata": {
        "colab": {
          "base_uri": "https://localhost:8080/"
        },
        "id": "rKNhn_802xXe",
        "outputId": "0ff0572a-1c32-4606-a8c3-91c144b388f1"
      },
      "execution_count": 8,
      "outputs": [
        {
          "output_type": "stream",
          "name": "stdout",
          "text": [
            "A\n",
            "B\n",
            "C\n",
            "D\n"
          ]
        }
      ]
    }
  ]
}