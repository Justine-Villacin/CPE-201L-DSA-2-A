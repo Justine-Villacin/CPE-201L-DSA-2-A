{
  "nbformat": 4,
  "nbformat_minor": 0,
  "metadata": {
    "colab": {
      "provenance": [],
      "authorship_tag": "ABX9TyOEFUPvHG/ETtn4/nmJBl4b",
      "include_colab_link": true
    },
    "kernelspec": {
      "name": "python3",
      "display_name": "Python 3"
    },
    "language_info": {
      "name": "python"
    }
  },
  "cells": [
    {
      "cell_type": "markdown",
      "metadata": {
        "id": "view-in-github",
        "colab_type": "text"
      },
      "source": [
        "<a href=\"https://colab.research.google.com/github/Justine-Villacin/CPE-201L-DSA-2-A/blob/main/DSA%20LABORATORY%205.ipynb\" target=\"_parent\"><img src=\"https://colab.research.google.com/assets/colab-badge.svg\" alt=\"Open In Colab\"/></a>"
      ]
    },
    {
      "cell_type": "markdown",
      "source": [
        "# SUMMATION OF ALL ELEMENT INSIDE THE ARRAY"
      ],
      "metadata": {
        "id": "SOLOAcTcuEVa"
      }
    },
    {
      "cell_type": "code",
      "source": [
        "numbers = [1,2,3,4,5,6,7,8,9,10]\n",
        "\n",
        "print(\"Original Array: \",numbers)\n",
        "\n",
        "sum_of_index = sum(numbers)\n",
        "print(f\"\\nSum of Array: {sum_of_index}\")"
      ],
      "metadata": {
        "colab": {
          "base_uri": "https://localhost:8080/"
        },
        "id": "0fFe_SFTuChl",
        "outputId": "308f2d2a-4195-49dd-d57e-f855eceb9ae6"
      },
      "execution_count": 5,
      "outputs": [
        {
          "output_type": "stream",
          "name": "stdout",
          "text": [
            "Original Array:  [1, 2, 3, 4, 5, 6, 7, 8, 9, 10]\n",
            "\n",
            "Sum of Array: 55\n"
          ]
        }
      ]
    },
    {
      "cell_type": "markdown",
      "source": [
        "# APPEND NEW ELEMENT"
      ],
      "metadata": {
        "id": "4td5QFfft_Nc"
      }
    },
    {
      "cell_type": "code",
      "source": [
        "numbers = [1,2,3,4,5,6,7,8,9,10]\n",
        "print(\"Original Array: \", numbers)\n",
        "numbers.append(11)\n",
        "print(\"\\nUpdated Array: \", numbers)"
      ],
      "metadata": {
        "colab": {
          "base_uri": "https://localhost:8080/"
        },
        "id": "UW8IdH-ct9nI",
        "outputId": "0d31d540-2f6f-4507-ab7d-eeed08902b90"
      },
      "execution_count": 4,
      "outputs": [
        {
          "output_type": "stream",
          "name": "stdout",
          "text": [
            "Original Array:  [1, 2, 3, 4, 5, 6, 7, 8, 9, 10]\n",
            "\n",
            "Updated Array:  [1, 2, 3, 4, 5, 6, 7, 8, 9, 10, 11]\n"
          ]
        }
      ]
    },
    {
      "cell_type": "markdown",
      "source": [
        "# INSERTING ELEMENT"
      ],
      "metadata": {
        "id": "eWCJrUd1t3wp"
      }
    },
    {
      "cell_type": "code",
      "source": [
        "numbers = [1,2,3,4,5,6,7,8,9,10]\n",
        "\n",
        "print(\"Original Array: \",numbers)\n",
        "\n",
        "num = int(input(\"\\nEnter a number: \"))\n",
        "numbers.insert(1, num)\n",
        "\n",
        "print(\"\\nLatest Array:\", numbers)"
      ],
      "metadata": {
        "colab": {
          "base_uri": "https://localhost:8080/"
        },
        "id": "QoB_4Fl2t00O",
        "outputId": "6ffc6aea-9b46-4db1-c793-37e505f40024"
      },
      "execution_count": 3,
      "outputs": [
        {
          "output_type": "stream",
          "name": "stdout",
          "text": [
            "Original Array:  [1, 2, 3, 4, 5, 6, 7, 8, 9, 10]\n",
            "\n",
            "Enter a number: 99\n",
            "\n",
            "Latest Array: [1, 99, 2, 3, 4, 5, 6, 7, 8, 9, 10]\n"
          ]
        }
      ]
    },
    {
      "cell_type": "markdown",
      "source": [
        "# REVERSE"
      ],
      "metadata": {
        "id": "GWIWaWLKtyRW"
      }
    },
    {
      "cell_type": "code",
      "source": [
        "numbers = [1,2,3,4,5,6,7,8,9,10]\n",
        "\n",
        "print(\"Original Array: \",numbers)\n",
        "\n",
        "numbers.reverse()\n",
        "print(\"\\nUpdated Array: \", numbers)\n"
      ],
      "metadata": {
        "colab": {
          "base_uri": "https://localhost:8080/"
        },
        "id": "O0kZ2xl6tTvN",
        "outputId": "81f97228-8f40-4b1a-f9bb-9d84359d0c44"
      },
      "execution_count": 2,
      "outputs": [
        {
          "output_type": "stream",
          "name": "stdout",
          "text": [
            "Original Array:  [1, 2, 3, 4, 5, 6, 7, 8, 9, 10]\n",
            "\n",
            "Updated Array:  [10, 9, 8, 7, 6, 5, 4, 3, 2, 1]\n"
          ]
        }
      ]
    },
    {
      "cell_type": "markdown",
      "source": [
        "# LENGTH OF ARRAY\n"
      ],
      "metadata": {
        "id": "7QGU7bMnsjFY"
      }
    },
    {
      "cell_type": "code",
      "execution_count": 1,
      "metadata": {
        "colab": {
          "base_uri": "https://localhost:8080/"
        },
        "id": "PxuQPcHSsfTb",
        "outputId": "cdfcf6f4-8302-4fc8-a4d2-a342d80fe58e"
      },
      "outputs": [
        {
          "output_type": "stream",
          "name": "stdout",
          "text": [
            "Original Array:  [5, 4, 3, 2, 1]\n",
            "Length of Array:  5\n"
          ]
        }
      ],
      "source": [
        "number = [5, 4, 3, 2, 1]\n",
        "\n",
        "print(\"Original Array: \", number)\n",
        "\n",
        "haba = len(number)\n",
        "\n",
        "print(\"Length of Array: \", haba)"
      ]
    }
  ]
}