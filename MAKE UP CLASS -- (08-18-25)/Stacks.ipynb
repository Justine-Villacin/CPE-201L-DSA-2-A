{
  "nbformat": 4,
  "nbformat_minor": 0,
  "metadata": {
    "colab": {
      "provenance": [],
      "authorship_tag": "ABX9TyM8X9Q+lIjD+rC0q3c3KJeN",
      "include_colab_link": true
    },
    "kernelspec": {
      "name": "python3",
      "display_name": "Python 3"
    },
    "language_info": {
      "name": "python"
    }
  },
  "cells": [
    {
      "cell_type": "markdown",
      "metadata": {
        "id": "view-in-github",
        "colab_type": "text"
      },
      "source": [
        "<a href=\"https://colab.research.google.com/github/Justine-Villacin/CPE-201L-DSA-2-A/blob/main/Stacks.ipynb\" target=\"_parent\"><img src=\"https://colab.research.google.com/assets/colab-badge.svg\" alt=\"Open In Colab\"/></a>"
      ]
    },
    {
      "cell_type": "code",
      "execution_count": 3,
      "metadata": {
        "id": "CZm53gOG6W9w"
      },
      "outputs": [],
      "source": [
        "class Stack:\n",
        "    def __init__(self):\n",
        "        self.stack = []\n",
        "\n",
        "    def push(self, dataval):\n",
        "        # Use list append method to add element\n",
        "        if dataval not in self.stack:\n",
        "            self.stack.append(dataval)\n",
        "            return True\n",
        "        else:\n",
        "            return False\n",
        "\n",
        "    def pop(self):\n",
        "        # Remove and return the top element (last in first out)\n",
        "        if len(self.stack) <= 0:\n",
        "            return \"Stack is empty\"\n",
        "        else:\n",
        "            return self.stack.pop()\n",
        "\n",
        "    #def display(self):\n",
        "      #print(self.stack)\n",
        "\n",
        "    def retrieve(self):\n",
        "      for item in reversed(self.stack):\n",
        "        print(item)\n",
        "\n",
        "    #def\n",
        "AStack = Stack()\n",
        "AStack.push(\"Sun\")\n",
        "AStack.push(\"Mon\")\n",
        "AStack.push(\"Tue\")\n",
        "AStack.push(\"Wed\")\n",
        "AStack.push(\"Thu\")\n",
        "AStack.push(\"Fri\")\n",
        "AStack.push(\"Sat\")\n",
        "\n",
        "AStack.pop()\n",
        "AStack.pop()\n",
        "AStack.retrieve()"
      ]
    }
  ]
}