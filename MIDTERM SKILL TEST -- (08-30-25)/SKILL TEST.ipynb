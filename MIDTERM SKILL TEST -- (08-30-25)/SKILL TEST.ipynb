{
  "nbformat": 4,
  "nbformat_minor": 0,
  "metadata": {
    "colab": {
      "provenance": [],
      "authorship_tag": "ABX9TyP4Af2gi/Ss1VvnpKbbx0I5",
      "include_colab_link": true
    },
    "kernelspec": {
      "name": "python3",
      "display_name": "Python 3"
    },
    "language_info": {
      "name": "python"
    }
  },
  "cells": [
    {
      "cell_type": "markdown",
      "metadata": {
        "id": "view-in-github",
        "colab_type": "text"
      },
      "source": [
        "<a href=\"https://colab.research.google.com/github/Justine-Villacin/CPE-201L-DSA-2-A/blob/main/SKILL%20TEST.ipynb\" target=\"_parent\"><img src=\"https://colab.research.google.com/assets/colab-badge.svg\" alt=\"Open In Colab\"/></a>"
      ]
    },
    {
      "cell_type": "code",
      "source": [
        "class Queue:\n",
        "    def __init__(self):\n",
        "        self.queue = []\n",
        "\n",
        "    def enqueue(self, dataval):\n",
        "        # Use list append method to add element\n",
        "        if dataval not in self.queue:\n",
        "            self.queue.append(dataval)\n",
        "            return True\n",
        "        else:\n",
        "            return False\n",
        "\n",
        "    def display(self):\n",
        "      for item in self.queue:\n",
        "        for char in item:\n",
        "          print(f\"{char}\", end=\" \")\n",
        "\n",
        "    def reverse(self):\n",
        "      for item in reversed(self.queue):\n",
        "        for char in item:\n",
        "          print(f\"{char}\", end=\" \")\n",
        "\n",
        "AQueue = Queue()\n",
        "AQueue.enqueue(\"JUSTINE \")\n",
        "AQueue.enqueue(\"RIVERA \")\n",
        "AQueue.enqueue(\"VILLACIN \")\n",
        "\n",
        "print(\"\\nFULL NAME TRAVERSED:\\n\")\n",
        "AQueue.display()\n",
        "print(\"\\n\")\n",
        "print(\"\\nFULL NAME REVERSED:\\n\")\n",
        "AQueue.reverse()"
      ],
      "metadata": {
        "colab": {
          "base_uri": "https://localhost:8080/"
        },
        "id": "4klzFvvSWxXT",
        "outputId": "7dac8eb3-42a0-496a-dae2-486b0a5a947c"
      },
      "execution_count": 102,
      "outputs": [
        {
          "output_type": "stream",
          "name": "stdout",
          "text": [
            "\n",
            "FULL NAME TRAVERSED:\n",
            "\n",
            "J U S T I N E   R I V E R A   V I L L A C I N   \n",
            "\n",
            "\n",
            "FULL NAME REVERSED:\n",
            "\n",
            "V I L L A C I N   R I V E R A   J U S T I N E   "
          ]
        }
      ]
    }
  ]
}