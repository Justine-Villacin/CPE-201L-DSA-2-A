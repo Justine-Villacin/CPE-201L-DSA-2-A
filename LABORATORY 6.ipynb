{
  "nbformat": 4,
  "nbformat_minor": 0,
  "metadata": {
    "colab": {
      "provenance": [],
      "authorship_tag": "ABX9TyMKuEHFnRVuqGMnffu/NGoK",
      "include_colab_link": true
    },
    "kernelspec": {
      "name": "python3",
      "display_name": "Python 3"
    },
    "language_info": {
      "name": "python"
    }
  },
  "cells": [
    {
      "cell_type": "markdown",
      "metadata": {
        "id": "view-in-github",
        "colab_type": "text"
      },
      "source": [
        "<a href=\"https://colab.research.google.com/github/Justine-Villacin/CPE-201L-DSA-2-A/blob/main/LABORATORY%206.ipynb\" target=\"_parent\"><img src=\"https://colab.research.google.com/assets/colab-badge.svg\" alt=\"Open In Colab\"/></a>"
      ]
    },
    {
      "cell_type": "code",
      "execution_count": 12,
      "metadata": {
        "colab": {
          "base_uri": "https://localhost:8080/"
        },
        "id": "uf8QOmsWhsf4",
        "outputId": "32170bcd-ade0-4826-e17e-a4b233a04929"
      },
      "outputs": [
        {
          "output_type": "stream",
          "name": "stdout",
          "text": [
            "Prime Numbers SinglyLinkedList: \n",
            "2 ⇁ 3 ⇁ 5 ⇁ 7 ⇁ 11 ⇁ 13 ⇁ 17 ⇁ 19 ⇁ null\n",
            "Head: 2\n",
            "Tail: 19\n"
          ]
        }
      ],
      "source": [
        "class Node:\n",
        "  def __init__(self,data = None):\n",
        "    self.data = data\n",
        "    self.next = None\n",
        "\n",
        "def Linkedlist(head):\n",
        "  currentNode = head\n",
        "  while currentNode:\n",
        "    print(currentNode.data, end= \" ⇁ \")\n",
        "    currentNode = currentNode.next\n",
        "  print(\"null\")\n",
        "\n",
        "node1 = Node(2)\n",
        "node2 = Node(3)\n",
        "node3 = Node(5)\n",
        "node4 = Node(7)\n",
        "node5 = Node(11)\n",
        "node6 = Node(13)\n",
        "node7 = Node(17)\n",
        "node8 = Node(19)\n",
        "\n",
        "node1.next = node2\n",
        "node2.next = node3\n",
        "node3.next = node4\n",
        "node4.next = node5\n",
        "node5.next = node6\n",
        "node6.next = node7\n",
        "node7.next = node8\n",
        "\n",
        "print(\"Prime Numbers SinglyLinkedList: \")\n",
        "Linkedlist(node1)\n",
        "\n",
        "print(f\"Head: {node1.data}\")\n",
        "print(f\"Tail: {node8.data}\")\n",
        "\n"
      ]
    }
  ]
}