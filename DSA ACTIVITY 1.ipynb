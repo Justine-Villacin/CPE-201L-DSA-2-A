{
  "nbformat": 4,
  "nbformat_minor": 0,
  "metadata": {
    "colab": {
      "provenance": [],
      "authorship_tag": "ABX9TyMzJiZrDhTv4FbQo+Kz9mo3",
      "include_colab_link": true
    },
    "kernelspec": {
      "name": "python3",
      "display_name": "Python 3"
    },
    "language_info": {
      "name": "python"
    }
  },
  "cells": [
    {
      "cell_type": "markdown",
      "metadata": {
        "id": "view-in-github",
        "colab_type": "text"
      },
      "source": [
        "<a href=\"https://colab.research.google.com/github/Justine-Villacin/CPE-201L-DSA-2-A/blob/main/DSA%20ACTIVITY%201.ipynb\" target=\"_parent\"><img src=\"https://colab.research.google.com/assets/colab-badge.svg\" alt=\"Open In Colab\"/></a>"
      ]
    },
    {
      "cell_type": "markdown",
      "source": [
        "\n",
        "\n",
        "> Create a Python Program That Computes The Area of a Circle\n",
        "\n"
      ],
      "metadata": {
        "id": "tqiIAi4OzrKV"
      }
    },
    {
      "cell_type": "code",
      "source": [
        "import math\n",
        "\n",
        "radius = float(input(\"Enter the radius of a circle: \"))\n",
        "Area = math.pi * math.pow(radius, 2)\n",
        "\n",
        "print(f\"Area of Cicle: {Area:.4f}\")"
      ],
      "metadata": {
        "colab": {
          "base_uri": "https://localhost:8080/"
        },
        "id": "wzIvUF8I2-Us",
        "outputId": "dfb35597-2636-4d7f-9494-dcd7b2e9a884"
      },
      "execution_count": 24,
      "outputs": [
        {
          "output_type": "stream",
          "name": "stdout",
          "text": [
            "Enter the radius of a circle: 5\n",
            "Area of Cicle: 78.5398\n"
          ]
        }
      ]
    },
    {
      "cell_type": "code",
      "source": [
        "import math\n",
        "\n",
        "diameter = float(input(\"Enter the diameter of a circle: \"))\n",
        "Area = math.pi * math.pow((diameter/2), 2)\n",
        "\n",
        "print(f\"The Area of a Circle: {Area:.4f}\")"
      ],
      "metadata": {
        "colab": {
          "base_uri": "https://localhost:8080/"
        },
        "id": "sydM-xkj2MyF",
        "outputId": "b5b5a57d-b083-46c9-89ef-ca4e651b0ea4"
      },
      "execution_count": 25,
      "outputs": [
        {
          "output_type": "stream",
          "name": "stdout",
          "text": [
            "Enter the diameter of a circle: 10\n",
            "The Area of a Circle: 78.5398\n"
          ]
        }
      ]
    },
    {
      "cell_type": "code",
      "source": [
        "import math\n",
        "\n",
        "print(\" Choose Between (1)Radius or (2)Diameter \")\n",
        "number = int(input(\"Enter a Number: \"))\n",
        "\n",
        "if number == 1:\n",
        "  radius = float(input(\"Enter the radius of a circle: \"))\n",
        "  Area = math.pi * math.pow(radius, 2)\n",
        "  print(f\"The Area of a Circle: {Area:.4f}\")\n",
        "\n",
        "elif number == 2:\n",
        "  diameter = float(input(\"Enter the diameter of a circle: \"))\n",
        "  Area = math.pi * math.pow((diameter/2), 2\\)\n",
        "  print(f\"The Area of a Circle: {Area:.4f}\")\n",
        "\n"
      ],
      "metadata": {
        "colab": {
          "base_uri": "https://localhost:8080/"
        },
        "id": "IiJzFxX37u61",
        "outputId": "4a3ecc74-1eb2-452c-e5b2-21b8d60f1a3d"
      },
      "execution_count": 30,
      "outputs": [
        {
          "output_type": "stream",
          "name": "stdout",
          "text": [
            " Choose Between (1)Radius or (2)Diameter \n",
            "Enter a Number: 2\n",
            "Enter the diameter of a circle: 10\n",
            "The Area of a Circle: 78.5398\n"
          ]
        }
      ]
    }
  ]
}