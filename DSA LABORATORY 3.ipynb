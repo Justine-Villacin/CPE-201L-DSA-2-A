{
  "nbformat": 4,
  "nbformat_minor": 0,
  "metadata": {
    "colab": {
      "provenance": [],
      "authorship_tag": "ABX9TyMLAz0ud2oJ9h1UCOxz1YMk",
      "include_colab_link": true
    },
    "kernelspec": {
      "name": "python3",
      "display_name": "Python 3"
    },
    "language_info": {
      "name": "python"
    }
  },
  "cells": [
    {
      "cell_type": "markdown",
      "metadata": {
        "id": "view-in-github",
        "colab_type": "text"
      },
      "source": [
        "<a href=\"https://colab.research.google.com/github/Justine-Villacin/CPE-201L-DSA-2-A/blob/main/DSA%20LABORATORY%203.ipynb\" target=\"_parent\"><img src=\"https://colab.research.google.com/assets/colab-badge.svg\" alt=\"Open In Colab\"/></a>"
      ]
    },
    {
      "cell_type": "code",
      "source": [
        "scores = [26, 49, 98, 87, 62, 75]\n",
        "sum_of_evens = 0\n",
        "\n",
        "for i in scores:\n",
        "  if i % 2 == 0:\n",
        "    sum_of_evens += i\n",
        "\n",
        "print(f\"The total value of even numbers: {sum_of_evens} \")"
      ],
      "metadata": {
        "colab": {
          "base_uri": "https://localhost:8080/"
        },
        "id": "2NzLrPIYqCQI",
        "outputId": "0da111e5-831e-424b-b537-bf79375840de"
      },
      "execution_count": 37,
      "outputs": [
        {
          "output_type": "stream",
          "name": "stdout",
          "text": [
            "The total value of even numbers: 186 \n"
          ]
        }
      ]
    }
  ]
}