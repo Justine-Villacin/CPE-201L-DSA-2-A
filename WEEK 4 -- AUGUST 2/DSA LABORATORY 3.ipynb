{
  "nbformat": 4,
  "nbformat_minor": 0,
  "metadata": {
    "colab": {
      "provenance": [],
      "authorship_tag": "ABX9TyM8K88aC3GFBGHYTp1nGM+J",
      "include_colab_link": true
    },
    "kernelspec": {
      "name": "python3",
      "display_name": "Python 3"
    },
    "language_info": {
      "name": "python"
    }
  },
  "cells": [
    {
      "cell_type": "markdown",
      "metadata": {
        "id": "view-in-github",
        "colab_type": "text"
      },
      "source": [
        "<a href=\"https://colab.research.google.com/github/Justine-Villacin/CPE-201L-DSA-2-A/blob/main/DSA%20LABORATORY%203.ipynb\" target=\"_parent\"><img src=\"https://colab.research.google.com/assets/colab-badge.svg\" alt=\"Open In Colab\"/></a>"
      ]
    },
    {
      "cell_type": "code",
      "source": [
        "scores = [26, 49, 98, 87, 62, 75]\n",
        "summation_for_even = 0\n",
        "\n",
        "for i in scores:\n",
        "  if i % 2 == 0:\n",
        "    summation_for_even += i\n",
        "\n",
        "print(f\"The total value of even numbers: {summation_for_even} \")"
      ],
      "metadata": {
        "colab": {
          "base_uri": "https://localhost:8080/"
        },
        "id": "2NzLrPIYqCQI",
        "outputId": "1cd6e0f7-cb80-450c-fd11-4a2261d2a664"
      },
      "execution_count": 35,
      "outputs": [
        {
          "output_type": "stream",
          "name": "stdout",
          "text": [
            "The total value of even numbers: 186 \n"
          ]
        }
      ]
    }
  ]
}