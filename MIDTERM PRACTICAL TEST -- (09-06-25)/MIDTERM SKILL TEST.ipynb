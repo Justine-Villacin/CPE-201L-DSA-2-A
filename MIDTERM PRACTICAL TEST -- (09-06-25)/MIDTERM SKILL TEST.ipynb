{
  "nbformat": 4,
  "nbformat_minor": 0,
  "metadata": {
    "colab": {
      "provenance": [],
      "authorship_tag": "ABX9TyMZn2Z1L9axM8WgExBgWRvb",
      "include_colab_link": true
    },
    "kernelspec": {
      "name": "python3",
      "display_name": "Python 3"
    },
    "language_info": {
      "name": "python"
    }
  },
  "cells": [
    {
      "cell_type": "markdown",
      "metadata": {
        "id": "view-in-github",
        "colab_type": "text"
      },
      "source": [
        "<a href=\"https://colab.research.google.com/github/Justine-Villacin/CPE-201L-DSA-2-A/blob/main/MIDTERM%20SKILL%20TEST.ipynb\" target=\"_parent\"><img src=\"https://colab.research.google.com/assets/colab-badge.svg\" alt=\"Open In Colab\"/></a>"
      ]
    },
    {
      "cell_type": "code",
      "execution_count": 80,
      "metadata": {
        "colab": {
          "base_uri": "https://localhost:8080/"
        },
        "id": "JrlfXOHk_xjS",
        "outputId": "d8af57c2-a021-4dac-e288-ac2e07e1a971"
      },
      "outputs": [
        {
          "output_type": "stream",
          "name": "stdout",
          "text": [
            "Initial Linked List:\n",
            "\n",
            "1 -> 3 -> 5 -> 7 -> 9 -> 11 -> 13 -> 15 -> 17 -> 19 -> 21 -> 23 -> 25 -> 27 -> 29 -> None\n",
            "\n",
            "After Appending 31:\n",
            "\n",
            "1 -> 3 -> 5 -> 7 -> 9 -> 11 -> 13 -> 15 -> 17 -> 19 -> 21 -> 23 -> 25 -> 27 -> 29 -> 31 -> None\n",
            "\n",
            "After Deleting 17:\n",
            "\n",
            "1 -> 3 -> 5 -> 7 -> 9 -> 11 -> 13 -> 15 -> 19 -> 21 -> 23 -> 25 -> 27 -> 29 -> 31 -> None\n",
            "\n",
            "\n",
            "Node with data 121 not found.\n"
          ]
        }
      ],
      "source": [
        "class Node:\n",
        "  def __init__(self,data):\n",
        "    self.data = data\n",
        "    self.next = None\n",
        "\n",
        "class LinkedList:\n",
        "  def __init__(self):\n",
        "    self.head = None\n",
        "\n",
        "  def append(self,data):\n",
        "    new_node = Node(data)\n",
        "    if self.head is None:\n",
        "      self.head = new_node\n",
        "    else:\n",
        "      current = self.head\n",
        "      while current.next:\n",
        "        current = current.next\n",
        "      current.next = new_node\n",
        "\n",
        "  def display(self):\n",
        "    current = self.head\n",
        "    while current:\n",
        "      print(current.data,end=\" -> \")\n",
        "      current = current.next\n",
        "    print(\"None\")\n",
        "\n",
        "  def delete(self, key):\n",
        "      current = self.head\n",
        "      prev = None\n",
        "\n",
        "      if current and current.data == key:\n",
        "          self.head = current.next\n",
        "          return\n",
        "\n",
        "      while current and current.data != key:\n",
        "          prev = current\n",
        "          current = current.next\n",
        "\n",
        "      if current is None:\n",
        "          print(f\"Node with data {key} not found.\")\n",
        "          return\n",
        "\n",
        "      prev.next = current.next\n",
        "\n",
        "\n",
        "\n",
        "llist = LinkedList()\n",
        "for num in range(1,30,2):\n",
        "  llist.append(num)\n",
        "\n",
        "print(\"Initial Linked List:\\n\")\n",
        "llist.display()\n",
        "\n",
        "print(\"\\nAfter Appending 31:\\n\")\n",
        "llist.append(31)\n",
        "llist.display()\n",
        "\n",
        "print(f\"\\nAfter Deleting 17:\\n\")\n",
        "llist.delete(17)\n",
        "llist.display()\n",
        "\n",
        "print(\"\\n\")\n",
        "llist.delete(121)"
      ]
    }
  ]
}