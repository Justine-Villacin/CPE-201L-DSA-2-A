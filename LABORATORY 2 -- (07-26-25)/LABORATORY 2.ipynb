{
  "nbformat": 4,
  "nbformat_minor": 0,
  "metadata": {
    "colab": {
      "provenance": [],
      "authorship_tag": "ABX9TyN4iWKN9MxtjeQbBsCDMFZw",
      "include_colab_link": true
    },
    "kernelspec": {
      "name": "python3",
      "display_name": "Python 3"
    },
    "language_info": {
      "name": "python"
    }
  },
  "cells": [
    {
      "cell_type": "markdown",
      "metadata": {
        "id": "view-in-github",
        "colab_type": "text"
      },
      "source": [
        "<a href=\"https://colab.research.google.com/github/Justine-Villacin/CPE-201L-DSA-2-A/blob/main/LABORATORY%202.ipynb\" target=\"_parent\"><img src=\"https://colab.research.google.com/assets/colab-badge.svg\" alt=\"Open In Colab\"/></a>"
      ]
    },
    {
      "cell_type": "code",
      "execution_count": 5,
      "metadata": {
        "colab": {
          "base_uri": "https://localhost:8080/"
        },
        "id": "PRFtjWQQjnAE",
        "outputId": "76cfa419-cc19-4066-f55c-ed48490b8a96"
      },
      "outputs": [
        {
          "output_type": "stream",
          "name": "stdout",
          "text": [
            "Numbers: [5, 2, 9, 1, 7]\n",
            "Min: 1, Max: 9\n",
            "Min: 42, Max: 42\n"
          ]
        }
      ],
      "source": [
        "def find_min_max(numbers):\n",
        "  if len(numbers) == 1:\n",
        "    return numbers[0], numbers[0]\n",
        "\n",
        "  min_val, max_val = find_min_max(numbers[1:])\n",
        "  return min(numbers[0], min_val), max(numbers[0], max_val)\n",
        "\n",
        "numbers = [5,2,9,1,7]\n",
        "print(f'Numbers: {numbers}')\n",
        "x, y = find_min_max(numbers)\n",
        "print(f\"Min: {x}, Max: {y}\")\n",
        "\n",
        "a, b  = find_min_max([42])\n",
        "print(f'Min: {a}, Max: {b}')"
      ]
    }
  ]
}